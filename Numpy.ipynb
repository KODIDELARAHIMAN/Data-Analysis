{
 "cells": [
  {
   "cell_type": "markdown",
   "id": "f7ee4938-6418-48bc-a5ea-9786166aafe4",
   "metadata": {},
   "source": [
    "# NumPy Basis: Arrays and Vectorized Computation"
   ]
  },
  {
   "cell_type": "markdown",
   "id": "00817fb9-bbe4-4ce5-9949-4c1949ac7ccc",
   "metadata": {},
   "source": [
    "NumPy, short for Numerical Python, is one of the most import foundational packagers for numerical computing in Python. Many computational packages providing scientific functionality use NumPy's array objects as one of the standard interface for data exchange. "
   ]
  },
  {
   "cell_type": "markdown",
   "id": "c3388356-ea77-4266-81fc-a64d5bda3f44",
   "metadata": {},
   "source": [
    "Here are some of the things you'll find in NumPy:"
   ]
  },
  {
   "cell_type": "markdown",
   "id": "590a7f85-78cd-49ac-8a27-f468c46c0155",
   "metadata": {},
   "source": [
    "- ndarray, an effcient multidimensional array prociding fast raay-oriented arithmetic operations and flexible capabilites.\n",
    "- Mathemcatical functions for fast operations on entire arrays of data without having to write loops.\n",
    "- Tools for reading/writing array data to disk and working with memory-mapped files.\n",
    "- Linear algebra, random number genrations, and fourier transform capabilities\n",
    "- Fast array-based operations for data munging and cleaning, subsetting and filtering, transformation, and any other kind of computation\n",
    "- Common array algorithms like sorting, unique, and set operations\n",
    "- Efficient descriptive statistics and aggregating/summarizing data\n",
    "- Data alignment and relational data manipulations for merging and joining heter‐\n",
    "ogeneous datasets\n",
    "- Expressing conditional logic as array expressions instead of loops with if-elifelse branches\n",
    "-  Group-wise data manipulations (aggregation, transformation, and function\n",
    "application)\n"
   ]
  },
  {
   "cell_type": "markdown",
   "id": "f4abb4c2-c8e8-4f8c-adfa-f5806d619262",
   "metadata": {},
   "source": [
    "One of the reasons NumPy is so important for numerical computations in Python is becuase it is designed for efficiency on large arrays of data. There are number of reasons for this. \n",
    "\n",
    "- NumPy internally stores data in contiguous block of memory, independent of other built-in Python objects. Numpy's library of algorithms written in C language can operate on this memory without any type checking or other overhead. NumPy arrays alos use much less memory than built-in Python sequences.\n",
    "- NumPy operations perform complex computations on entire arrays without the need for Python for loops, which can be slow for large sequences. NumPy is faster than regular Python code becuase its C-based alogirthms avoid overhead present with regular interpreted Python code. "
   ]
  },
  {
   "cell_type": "code",
   "execution_count": 18,
   "id": "bf4e938c-9b7b-48d2-9c53-422f037cfc98",
   "metadata": {},
   "outputs": [
    {
     "name": "stdout",
     "output_type": "stream",
     "text": [
      "2.08 ms ± 21.8 μs per loop (mean ± std. dev. of 7 runs, 100 loops each)\n",
      "94.1 ms ± 3.42 ms per loop (mean ± std. dev. of 7 runs, 10 loops each)\n"
     ]
    }
   ],
   "source": [
    "### To give you an idea of performance difference, consider a NumPy array of one million integers, and equivalent Python list\n",
    "\n",
    "import numpy as np # importing numpy library as np\n",
    "my_arr = np.arange(1_000_000)\n",
    "\n",
    "my_list = list(range(1_000_000)) # list\n",
    "\n",
    "### now let's multiply each sequence by 2\n",
    "\n",
    "%timeit my_arr2 = my_arr * 2\n",
    "\n",
    "\n",
    "%timeit my_list2 = [x * 2 for x in my_list] \n",
    "\n",
    "               "
   ]
  },
  {
   "cell_type": "markdown",
   "id": "1dbb106a-5d5d-48b5-9a08-8395b93a5519",
   "metadata": {},
   "source": [
    "NumPy based algorithms are generally 10 to 100 times faster than their pure Python counterparts and use significally less memory."
   ]
  },
  {
   "cell_type": "markdown",
   "id": "52a55918-5591-4ff3-be2f-45939f3ca5cb",
   "metadata": {},
   "source": [
    "## NumPy ndarray: A Multidimensional Array Object."
   ]
  },
  {
   "cell_type": "markdown",
   "id": "84b10e15-52c7-47c1-902d-53d93d8cf477",
   "metadata": {},
   "source": [
    "Key features of NumPy is its N-dimensional array object, or ndarray, which is fast, flexible container for large datasets in Python. Arrays enable you to perform mathematical operations on whole blocks of data using similar syntax to the equivalant operations between scalar elements. "
   ]
  },
  {
   "cell_type": "code",
   "execution_count": 19,
   "id": "4686d77b-1f74-4bb7-8fcc-2149c4c8dfdb",
   "metadata": {},
   "outputs": [
    {
     "data": {
      "text/plain": [
       "array([[ 1.5, -0.1,  3. ],\n",
       "       [ 0. , -3. ,  6.5]])"
      ]
     },
     "execution_count": 19,
     "metadata": {},
     "output_type": "execute_result"
    }
   ],
   "source": [
    "import numpy as np\n",
    "\n",
    "data = np.array([\n",
    "    [1.5, -0.1, 3],\n",
    "    [0, -3, 6.5]\n",
    "])\n",
    "\n",
    "data"
   ]
  },
  {
   "cell_type": "code",
   "execution_count": 20,
   "id": "e3ba65f3-91c4-4df4-93aa-6539762c1ddb",
   "metadata": {},
   "outputs": [
    {
     "data": {
      "text/plain": [
       "array([[ 15.,  -1.,  30.],\n",
       "       [  0., -30.,  65.]])"
      ]
     },
     "execution_count": 20,
     "metadata": {},
     "output_type": "execute_result"
    }
   ],
   "source": [
    "### Matematical operations \n",
    "\n",
    "data * 10   # all elements will multply by 10."
   ]
  },
  {
   "cell_type": "code",
   "execution_count": 23,
   "id": "3069f3c7-149c-41d2-a636-2f0034672a54",
   "metadata": {},
   "outputs": [
    {
     "data": {
      "text/plain": [
       "array([[ 3. , -0.2,  6. ],\n",
       "       [ 0. , -6. , 13. ]])"
      ]
     },
     "execution_count": 23,
     "metadata": {},
     "output_type": "execute_result"
    }
   ],
   "source": [
    "data + data  # values are added to each other."
   ]
  },
  {
   "cell_type": "code",
   "execution_count": 25,
   "id": "97780638-d3d6-4ea5-a0aa-e683d867c366",
   "metadata": {},
   "outputs": [
    {
     "name": "stdout",
     "output_type": "stream",
     "text": [
      "[[ 1.5 -0.1  3. ]\n",
      " [ 0.  -3.   6.5]]\n"
     ]
    }
   ],
   "source": [
    "from numpy import *\n",
    "\n",
    "mydata = data\n",
    "print(mydata)"
   ]
  },
  {
   "cell_type": "raw",
   "id": "cdebcb9f-d5ff-4aa1-ae8b-78f2e4036f39",
   "metadata": {},
   "source": [
    "Why we need to use \"import numpy as np\" where as we can also use \"from numpy import *\" ? "
   ]
  },
  {
   "cell_type": "markdown",
   "id": "01a104c6-cc7c-49b1-917e-20b265511871",
   "metadata": {},
   "source": [
    "Becuase, numpy module has large number of functions whose names conflict with built-in Python functions (like min and max). "
   ]
  },
  {
   "cell_type": "code",
   "execution_count": 28,
   "id": "a129a86e-ae0c-4200-a937-ace7bf4658dc",
   "metadata": {},
   "outputs": [
    {
     "data": {
      "text/plain": [
       "(2, 3)"
      ]
     },
     "execution_count": 28,
     "metadata": {},
     "output_type": "execute_result"
    }
   ],
   "source": [
    "data.shape # shape is object in numpy used to check dimension of array. "
   ]
  },
  {
   "cell_type": "code",
   "execution_count": 27,
   "id": "22545686-60d0-4910-bd2c-c1c32a67d4b3",
   "metadata": {},
   "outputs": [
    {
     "data": {
      "text/plain": [
       "dtype('float64')"
      ]
     },
     "execution_count": 27,
     "metadata": {},
     "output_type": "execute_result"
    }
   ],
   "source": [
    "data.dtype  # dtype, an object in numpy describing the data type of the array"
   ]
  },
  {
   "cell_type": "markdown",
   "id": "16a4413d-fb0b-46d4-b93c-c077cab6a5b5",
   "metadata": {},
   "source": [
    "## Creating ndarrays"
   ]
  },
  {
   "cell_type": "markdown",
   "id": "77663ecb-54a2-4128-8181-6e8dc0c22b73",
   "metadata": {},
   "source": [
    "The easiest way to create an array is to use the array function. This accepts any sequence-like object and produces a new NumPy array containing the passed data. \n",
    "\n",
    "It is good for conversion."
   ]
  },
  {
   "cell_type": "code",
   "execution_count": 1,
   "id": "d118ad12-a78d-468b-9c07-adcd10d0333d",
   "metadata": {},
   "outputs": [],
   "source": [
    "data1 = [6, 7.5, 8, 0, 1]"
   ]
  },
  {
   "cell_type": "code",
   "execution_count": 3,
   "id": "b9514957-fb39-4af6-80ec-c336d07f2f92",
   "metadata": {},
   "outputs": [],
   "source": [
    "import numpy as np\n",
    "arr1 = np.array(data1)"
   ]
  },
  {
   "cell_type": "code",
   "execution_count": 4,
   "id": "1bdd3d71-02a5-4eb3-ac61-faaf1453a193",
   "metadata": {},
   "outputs": [
    {
     "data": {
      "text/plain": [
       "array([6. , 7.5, 8. , 0. , 1. ])"
      ]
     },
     "execution_count": 4,
     "metadata": {},
     "output_type": "execute_result"
    }
   ],
   "source": [
    "arr1"
   ]
  },
  {
   "cell_type": "markdown",
   "id": "b6fb32ac-de1e-4b7d-92c9-e9037d983986",
   "metadata": {},
   "source": [
    "Nested sequences, like a list of equal length lists, will be converted into a multidimensional array:"
   ]
  },
  {
   "cell_type": "code",
   "execution_count": 5,
   "id": "1ba9c1fd-61e4-4e67-b487-e0d541f3b1d4",
   "metadata": {},
   "outputs": [
    {
     "data": {
      "text/plain": [
       "array([[1, 2, 3, 4],\n",
       "       [5, 6, 7, 8]])"
      ]
     },
     "execution_count": 5,
     "metadata": {},
     "output_type": "execute_result"
    }
   ],
   "source": [
    "data2 = [[1, 2, 3, 4],[5,6,7,8]]\n",
    "arr2 = np.array(data2)\n",
    "arr2"
   ]
  },
  {
   "cell_type": "markdown",
   "id": "8936fae7-bbfb-4d47-881b-1168a342755c",
   "metadata": {},
   "source": [
    "Since data2 was a list of lists. the NumPy arrays arr2 has two dimensions, with shape inferred from the data. we can confirm this by inspecting the ndim and shape attribures:"
   ]
  },
  {
   "cell_type": "code",
   "execution_count": 6,
   "id": "c6ea236c-a5db-454d-89c7-c9310ace1ef8",
   "metadata": {},
   "outputs": [
    {
     "data": {
      "text/plain": [
       "2"
      ]
     },
     "execution_count": 6,
     "metadata": {},
     "output_type": "execute_result"
    }
   ],
   "source": [
    "arr2.ndim"
   ]
  },
  {
   "cell_type": "code",
   "execution_count": 8,
   "id": "4b9addfc-075b-4765-8b3f-5fd9b37f1d7e",
   "metadata": {},
   "outputs": [
    {
     "data": {
      "text/plain": [
       "(2, 4)"
      ]
     },
     "execution_count": 8,
     "metadata": {},
     "output_type": "execute_result"
    }
   ],
   "source": [
    "arr2.shape"
   ]
  },
  {
   "cell_type": "code",
   "execution_count": 9,
   "id": "d2197558-618c-4949-8322-02d5f6d8a8fd",
   "metadata": {},
   "outputs": [
    {
     "data": {
      "text/plain": [
       "dtype('int32')"
      ]
     },
     "execution_count": 9,
     "metadata": {},
     "output_type": "execute_result"
    }
   ],
   "source": [
    "arr2.dtype"
   ]
  },
  {
   "cell_type": "code",
   "execution_count": 11,
   "id": "364ea546-dc17-4256-aaa6-7220c1878b42",
   "metadata": {},
   "outputs": [
    {
     "data": {
      "text/plain": [
       "dtype('float64')"
      ]
     },
     "execution_count": 11,
     "metadata": {},
     "output_type": "execute_result"
    }
   ],
   "source": [
    "arr1.dtype"
   ]
  },
  {
   "cell_type": "markdown",
   "id": "c4e644f6-66c2-49b0-b5b2-b9c4c1e7a027",
   "metadata": {},
   "source": [
    "In addition to numpy.array there are a number of other functions for creating new arrays. As examples numpy.zeros and numpy.ones create arrays of 0s or 1s, respectively, with a given length or shape. numpy.empty creates an array without initializing its values to any particular value. \n",
    "\n",
    "To create a higher dimensional array with these methods, pass a tuple for the shape"
   ]
  },
  {
   "cell_type": "code",
   "execution_count": 12,
   "id": "f30c9f7c-91ed-4f05-9de9-ac1e55415f72",
   "metadata": {},
   "outputs": [
    {
     "data": {
      "text/plain": [
       "array([0., 0., 0., 0., 0., 0., 0., 0., 0., 0.])"
      ]
     },
     "execution_count": 12,
     "metadata": {},
     "output_type": "execute_result"
    }
   ],
   "source": [
    "np.zeros(10)"
   ]
  },
  {
   "cell_type": "code",
   "execution_count": 14,
   "id": "8c367e97-3cd6-41fd-92bf-a757d9da17a7",
   "metadata": {},
   "outputs": [
    {
     "data": {
      "text/plain": [
       "array([[0., 0., 0., 0., 0., 0.],\n",
       "       [0., 0., 0., 0., 0., 0.],\n",
       "       [0., 0., 0., 0., 0., 0.]])"
      ]
     },
     "execution_count": 14,
     "metadata": {},
     "output_type": "execute_result"
    }
   ],
   "source": [
    "np.zeros((3,6))"
   ]
  },
  {
   "cell_type": "code",
   "execution_count": 15,
   "id": "5cc3bfad-93a0-44e1-91cc-fe8cf45788b1",
   "metadata": {},
   "outputs": [
    {
     "data": {
      "text/plain": [
       "array([[[9.57613755e-312, 2.47032823e-322],\n",
       "        [0.00000000e+000, 0.00000000e+000],\n",
       "        [1.11260619e-306, 5.74084271e+169]],\n",
       "\n",
       "       [[6.86772608e-091, 1.31397834e-047],\n",
       "        [8.25997790e-072, 1.04000717e-042],\n",
       "        [3.99910963e+252, 3.11023271e+179]]])"
      ]
     },
     "execution_count": 15,
     "metadata": {},
     "output_type": "execute_result"
    }
   ],
   "source": [
    "np.empty((2,3,2))"
   ]
  },
  {
   "cell_type": "raw",
   "id": "89dca0e7-d460-42dd-8064-6575bfe78149",
   "metadata": {},
   "source": [
    "It is not exact numbers that numpy.empty will return an array of all same , zeros. this functions returns uninitialized memory and thus may contian nonzero \"garbage\" values. Functions to be used only to populate the new array with data"
   ]
  },
  {
   "cell_type": "markdown",
   "id": "4bd2c557-e31e-4b3b-aa6a-24bf0c6d3c4c",
   "metadata": {},
   "source": [
    "numpy.arange is an array values version of built in Python range function"
   ]
  },
  {
   "cell_type": "code",
   "execution_count": 17,
   "id": "a401b01a-6afb-413e-b23a-8786b8b0f631",
   "metadata": {},
   "outputs": [
    {
     "data": {
      "text/plain": [
       "array([ 0,  1,  2,  3,  4,  5,  6,  7,  8,  9, 10, 11, 12, 13, 14])"
      ]
     },
     "execution_count": 17,
     "metadata": {},
     "output_type": "execute_result"
    }
   ],
   "source": [
    "np.arange(15)"
   ]
  },
  {
   "cell_type": "markdown",
   "id": "ba8410b7-51d7-4e56-9823-856e2f1def20",
   "metadata": {},
   "source": [
    "NumPy is focused on numerical computing. the data type if not specified , will in many cases be float64\n",
    "\n",
    "- array          : Convert input data to an ndarray either by inferring a data type or explicity specifing a data type; copies the input data by default\n",
    "- asarray        : Convert input to ndarray, but do not copy the input is already an ndarray\n",
    "- arange         : Like the built in range but return an ndarray instead of a list.\n",
    "- ones           : Produces an array all of 1s\n",
    "- ones_like      : produces an array of the same shape and data type.\n",
    "- zeros          : like onesand ones_like but producing arrays of 0s instead.\n",
    "- empty          : Create new array by allocating new memory, but do not populate with any valeus like ones and zeros\n",
    "- empty_like     : zeros\n",
    "- full           ; produces an array of the given shape and data type with all values set to indicated \"fill value\"\n",
    "- eye, identity  : create a square N x N identity matrix (1s on the diagonal and 0s else where)"
   ]
  },
  {
   "cell_type": "markdown",
   "id": "a68731c0-ba2f-49bf-9ebb-85875b100e7f",
   "metadata": {},
   "source": [
    "## Data Types of ndarrays"
   ]
  },
  {
   "cell_type": "markdown",
   "id": "0e7d4ea4-dd9b-468c-9a62-eeaa8fe419e1",
   "metadata": {},
   "source": [
    "The *data type* or dtype is a special object containing the information the ndarray needs to interpret a chunk of memory as a particular type of data"
   ]
  },
  {
   "cell_type": "code",
   "execution_count": 19,
   "id": "be8e753c-77e7-439f-8da3-bf5c53fd7843",
   "metadata": {},
   "outputs": [
    {
     "data": {
      "text/plain": [
       "dtype('float64')"
      ]
     },
     "execution_count": 19,
     "metadata": {},
     "output_type": "execute_result"
    }
   ],
   "source": [
    "arr1 = np.array([1, 2, 3], dtype=np.float64)\n",
    "arr2 = np.array([1, 2, 3], dtype=np.int32)\n",
    "\n",
    "arr1.dtype\n"
   ]
  },
  {
   "cell_type": "code",
   "execution_count": 20,
   "id": "8fc7e613-f897-4e19-9325-86f365e4679a",
   "metadata": {},
   "outputs": [
    {
     "data": {
      "text/plain": [
       "dtype('int32')"
      ]
     },
     "execution_count": 20,
     "metadata": {},
     "output_type": "execute_result"
    }
   ],
   "source": [
    "arr2.dtype"
   ]
  },
  {
   "cell_type": "markdown",
   "id": "e89f82c1-6bf9-4e5f-b553-116a4dfc5c11",
   "metadata": {},
   "source": [
    "To know more about NumPy data types, please visit \n",
    "\n",
    "https://numpy.org/devdocs/reference/arrays.dtypes.html#arrays-dtypes"
   ]
  },
  {
   "cell_type": "markdown",
   "id": "8ffa75ef-e87c-489a-8962-e0bd248b67c5",
   "metadata": {},
   "source": [
    "you can convert or cast an array from one data type to another using ndarray's astype method"
   ]
  },
  {
   "cell_type": "code",
   "execution_count": 23,
   "id": "a4426672-8918-4ace-9330-c73731d67582",
   "metadata": {},
   "outputs": [
    {
     "data": {
      "text/plain": [
       "dtype('int32')"
      ]
     },
     "execution_count": 23,
     "metadata": {},
     "output_type": "execute_result"
    }
   ],
   "source": [
    "arr = np.array([1, 2, 3, 4, 5])\n",
    "arr.dtype    # if you are getting int32 its because of you 32-bit system or you might installed Python 32-bit version. "
   ]
  },
  {
   "cell_type": "code",
   "execution_count": 24,
   "id": "edb6bb01-5849-4559-9fcd-03a49565b02f",
   "metadata": {},
   "outputs": [
    {
     "name": "stdout",
     "output_type": "stream",
     "text": [
      "('64bit', 'WindowsPE')\n"
     ]
    }
   ],
   "source": [
    "### to check your system version \n",
    "import platform\n",
    "print(platform.architecture())"
   ]
  },
  {
   "cell_type": "code",
   "execution_count": 29,
   "id": "13aed291-b4be-4ace-888e-c5af22bf6217",
   "metadata": {},
   "outputs": [
    {
     "data": {
      "text/plain": [
       "array([1., 2., 3., 4., 5.])"
      ]
     },
     "execution_count": 29,
     "metadata": {},
     "output_type": "execute_result"
    }
   ],
   "source": [
    "float_arr = arr.astype(np.float64)\n",
    "float_arr\n"
   ]
  },
  {
   "cell_type": "code",
   "execution_count": 31,
   "id": "8f4ae618-3f56-4298-bf9e-405c8fb46f80",
   "metadata": {},
   "outputs": [
    {
     "data": {
      "text/plain": [
       "dtype('float64')"
      ]
     },
     "execution_count": 31,
     "metadata": {},
     "output_type": "execute_result"
    }
   ],
   "source": [
    "float_arr.dtype"
   ]
  },
  {
   "cell_type": "markdown",
   "id": "00fe0114-0dc5-48ef-8464-2b09c700def6",
   "metadata": {},
   "source": [
    "In this example, integers were cast to floating point. If i cast floating-point numbers to be of integers data type, the decimal part will be truncated."
   ]
  },
  {
   "cell_type": "code",
   "execution_count": 32,
   "id": "3846d0ac-1112-4292-9ca8-1ec1cbb8fb86",
   "metadata": {},
   "outputs": [
    {
     "data": {
      "text/plain": [
       "array([ 3.7, -1.2, -2.6,  0.5, 12.9, 10.1])"
      ]
     },
     "execution_count": 32,
     "metadata": {},
     "output_type": "execute_result"
    }
   ],
   "source": [
    "arr = np.array([3.7, -1.2, -2.6, 0.5, 12.9, 10.1])\n",
    "arr"
   ]
  },
  {
   "cell_type": "code",
   "execution_count": 33,
   "id": "c9407fbe-3409-4e85-b9ef-86dfa4565373",
   "metadata": {},
   "outputs": [
    {
     "data": {
      "text/plain": [
       "array([ 3, -1, -2,  0, 12, 10])"
      ]
     },
     "execution_count": 33,
     "metadata": {},
     "output_type": "execute_result"
    }
   ],
   "source": [
    "arr.astype(np.int32)"
   ]
  },
  {
   "cell_type": "markdown",
   "id": "f76ec150-1f94-4c48-884d-b170689b5837",
   "metadata": {},
   "source": [
    "If you have an array of strings representing numbers, you can use astype to convert them to numeric form"
   ]
  },
  {
   "cell_type": "code",
   "execution_count": 35,
   "id": "75ba0d45-9f1e-4712-8e01-311eb675c571",
   "metadata": {},
   "outputs": [
    {
     "data": {
      "text/plain": [
       "dtype('S4')"
      ]
     },
     "execution_count": 35,
     "metadata": {},
     "output_type": "execute_result"
    }
   ],
   "source": [
    "numeric_strings = np.array([\"1.25\", \"-9.6\", \"42\"], dtype=np.string_)\n",
    "numeric_strings.dtype"
   ]
  },
  {
   "cell_type": "code",
   "execution_count": 37,
   "id": "48838337-fc0f-4b44-a0cd-34aa5462a830",
   "metadata": {},
   "outputs": [
    {
     "data": {
      "text/plain": [
       "array([ 1.25, -9.6 , 42.  ])"
      ]
     },
     "execution_count": 37,
     "metadata": {},
     "output_type": "execute_result"
    }
   ],
   "source": [
    "numeric_strings.astype(float)"
   ]
  },
  {
   "cell_type": "raw",
   "id": "1c699263-e307-4c08-ab77-bce3ef1bcf5d",
   "metadata": {},
   "source": [
    "Be cautions when using numpy.string_ type as string data in NumPy is fixed size and may truncate input without warning. pandas has better behaviour in this context. "
   ]
  },
  {
   "cell_type": "markdown",
   "id": "18c0c924-a4be-41ee-9d78-b6ae0b9ef319",
   "metadata": {},
   "source": [
    "There are shorthand type code strings you can use to refer to a dtype"
   ]
  },
  {
   "cell_type": "code",
   "execution_count": 39,
   "id": "2c590a07-95ff-4991-bdb7-82114858edea",
   "metadata": {},
   "outputs": [
    {
     "data": {
      "text/plain": [
       "array([0, 0, 0, 0, 0, 0, 0, 0], dtype=uint32)"
      ]
     },
     "execution_count": 39,
     "metadata": {},
     "output_type": "execute_result"
    }
   ],
   "source": [
    "zeros_uint32 = np.zeros(8, dtype=\"u4\")\n",
    "zeros_uint32"
   ]
  },
  {
   "cell_type": "code",
   "execution_count": 40,
   "id": "b6ee604c-f902-4d13-b6da-5395dde43c7e",
   "metadata": {},
   "outputs": [],
   "source": [
    "### Calling as type always creates a new array ( a cpy of the data), even itf the new data type is the same as the old data type."
   ]
  },
  {
   "cell_type": "markdown",
   "id": "6c1ae35b-608f-4a30-bcd8-57bd1db9bcea",
   "metadata": {},
   "source": [
    "## Arithmetic with NumPy Arrays"
   ]
  },
  {
   "cell_type": "markdown",
   "id": "ac229efd-fa0c-41ae-b79b-b4146ff823cd",
   "metadata": {},
   "source": [
    "Arrays are important becuase they enable you to express batch operations on data without writing any for loops. NumPy users call this ***vectorization***. Any arithmetic operations between equal-size arrays apply with operations element wise"
   ]
  },
  {
   "cell_type": "code",
   "execution_count": 5,
   "id": "4d7f5598-9e0c-4d05-9e83-dd3e9f96c93f",
   "metadata": {},
   "outputs": [
    {
     "data": {
      "text/plain": [
       "array([[1., 2., 3.],\n",
       "       [4., 5., 6.]])"
      ]
     },
     "execution_count": 5,
     "metadata": {},
     "output_type": "execute_result"
    }
   ],
   "source": [
    "import numpy as np\n",
    "arr = np.array([[1., 2., 3.,], [4., 5., 6.]])\n",
    "arr"
   ]
  },
  {
   "cell_type": "code",
   "execution_count": 6,
   "id": "d875af73-867f-4382-a032-7912c5388082",
   "metadata": {},
   "outputs": [
    {
     "data": {
      "text/plain": [
       "array([[ 1.,  4.,  9.],\n",
       "       [16., 25., 36.]])"
      ]
     },
     "execution_count": 6,
     "metadata": {},
     "output_type": "execute_result"
    }
   ],
   "source": [
    "arr * arr"
   ]
  },
  {
   "cell_type": "code",
   "execution_count": 7,
   "id": "512e0ecb-8c01-4623-acd6-c3138cffb0a9",
   "metadata": {},
   "outputs": [
    {
     "data": {
      "text/plain": [
       "array([[0., 0., 0.],\n",
       "       [0., 0., 0.]])"
      ]
     },
     "execution_count": 7,
     "metadata": {},
     "output_type": "execute_result"
    }
   ],
   "source": [
    "arr - arr"
   ]
  },
  {
   "cell_type": "markdown",
   "id": "a9e9e081-2ccb-4934-b68e-f27e3def165e",
   "metadata": {},
   "source": [
    "Arithmetic operations with scalar propagate the scalar argument to each element in the array:"
   ]
  },
  {
   "cell_type": "code",
   "execution_count": 8,
   "id": "580a4ca4-4db8-4a1d-8871-5e76fd4d4a4a",
   "metadata": {},
   "outputs": [
    {
     "data": {
      "text/plain": [
       "array([[1.        , 0.5       , 0.33333333],\n",
       "       [0.25      , 0.2       , 0.16666667]])"
      ]
     },
     "execution_count": 8,
     "metadata": {},
     "output_type": "execute_result"
    }
   ],
   "source": [
    "1 / arr"
   ]
  },
  {
   "cell_type": "code",
   "execution_count": 9,
   "id": "709f8520-d802-4932-ac57-d575880956a6",
   "metadata": {},
   "outputs": [
    {
     "data": {
      "text/plain": [
       "array([[ 1.,  4.,  9.],\n",
       "       [16., 25., 36.]])"
      ]
     },
     "execution_count": 9,
     "metadata": {},
     "output_type": "execute_result"
    }
   ],
   "source": [
    "arr ** 2"
   ]
  },
  {
   "cell_type": "markdown",
   "id": "e3926dcc-66bc-406f-904b-c1a55e01360d",
   "metadata": {},
   "source": [
    "Comparision operators between arrays of the same size yield boolean arrays:"
   ]
  },
  {
   "cell_type": "code",
   "execution_count": 10,
   "id": "4fca5b53-6c36-4d3e-b178-0ded7830d589",
   "metadata": {},
   "outputs": [
    {
     "data": {
      "text/plain": [
       "array([[ 0.,  4.,  1.],\n",
       "       [ 7.,  2., 12.]])"
      ]
     },
     "execution_count": 10,
     "metadata": {},
     "output_type": "execute_result"
    }
   ],
   "source": [
    "arr2 = np.array([\n",
    "    [0., 4., 1.],\n",
    "    [7., 2., 12.]\n",
    "])\n",
    "arr2 "
   ]
  },
  {
   "cell_type": "code",
   "execution_count": 11,
   "id": "eefe1ca9-0e21-4e43-ba79-2efe97202ebc",
   "metadata": {},
   "outputs": [
    {
     "data": {
      "text/plain": [
       "array([[False,  True, False],\n",
       "       [ True, False,  True]])"
      ]
     },
     "execution_count": 11,
     "metadata": {},
     "output_type": "execute_result"
    }
   ],
   "source": [
    "arr2 > arr"
   ]
  },
  {
   "cell_type": "markdown",
   "id": "ccaed584-e9bd-4801-b132-1f65c70144d0",
   "metadata": {},
   "source": [
    "Evaluating operation between differently sized arrays is called ***broadcasting***."
   ]
  },
  {
   "cell_type": "markdown",
   "id": "14bd5530-543a-4e78-bf77-a9833becc551",
   "metadata": {},
   "source": [
    "## Basic indexing and Slicing"
   ]
  },
  {
   "cell_type": "code",
   "execution_count": 13,
   "id": "1bfe8ff1-a3e7-4870-9878-9d8ad143af30",
   "metadata": {},
   "outputs": [
    {
     "data": {
      "text/plain": [
       "array([0, 1, 2, 3, 4, 5, 6, 7, 8, 9])"
      ]
     },
     "execution_count": 13,
     "metadata": {},
     "output_type": "execute_result"
    }
   ],
   "source": [
    "arr = np.arange(10)\n",
    "arr"
   ]
  },
  {
   "cell_type": "code",
   "execution_count": 14,
   "id": "fb5d45a7-13a4-4331-901a-b50a298c95c9",
   "metadata": {},
   "outputs": [
    {
     "data": {
      "text/plain": [
       "5"
      ]
     },
     "execution_count": 14,
     "metadata": {},
     "output_type": "execute_result"
    }
   ],
   "source": [
    "arr[5]"
   ]
  },
  {
   "cell_type": "code",
   "execution_count": 16,
   "id": "59040454-3a78-49a6-b68f-d10765247f1b",
   "metadata": {},
   "outputs": [
    {
     "data": {
      "text/plain": [
       "array([5, 6, 7])"
      ]
     },
     "execution_count": 16,
     "metadata": {},
     "output_type": "execute_result"
    }
   ],
   "source": [
    "arr[5:8]"
   ]
  },
  {
   "cell_type": "code",
   "execution_count": 18,
   "id": "fed83341-3740-40d2-aed0-cfd449f89d54",
   "metadata": {},
   "outputs": [
    {
     "data": {
      "text/plain": [
       "array([ 0,  1,  2,  3,  4, 12, 12, 12,  8,  9])"
      ]
     },
     "execution_count": 18,
     "metadata": {},
     "output_type": "execute_result"
    }
   ],
   "source": [
    "arr[5:8] = 12\n",
    "arr"
   ]
  },
  {
   "cell_type": "code",
   "execution_count": 19,
   "id": "2e39c7b9-c8c6-4a59-a146-f398fc6b9e32",
   "metadata": {},
   "outputs": [
    {
     "data": {
      "text/plain": [
       "array([12, 12, 12])"
      ]
     },
     "execution_count": 19,
     "metadata": {},
     "output_type": "execute_result"
    }
   ],
   "source": [
    "## Slicing\n",
    "\n",
    "arr_slice = arr[5:8]\n",
    "arr_slice"
   ]
  },
  {
   "cell_type": "code",
   "execution_count": 25,
   "id": "3ef07333-6969-453f-86c4-c619b0accc3b",
   "metadata": {},
   "outputs": [
    {
     "data": {
      "text/plain": [
       "array([    0,     1,     2,     3,     4,    64, 12345,    64,     8,\n",
       "           9])"
      ]
     },
     "execution_count": 25,
     "metadata": {},
     "output_type": "execute_result"
    }
   ],
   "source": [
    "arr_slice[1] = 12345\n",
    "arr"
   ]
  },
  {
   "cell_type": "markdown",
   "id": "8ef67bb0-8528-4d9a-9c3a-f9b2b7cff607",
   "metadata": {},
   "source": [
    "The \"bare\" slice [:] will assign all values in array:"
   ]
  },
  {
   "cell_type": "code",
   "execution_count": 26,
   "id": "02ec066b-5c62-4440-8dd9-b946efc58478",
   "metadata": {},
   "outputs": [
    {
     "data": {
      "text/plain": [
       "array([ 0,  1,  2,  3,  4, 64, 64, 64,  8,  9])"
      ]
     },
     "execution_count": 26,
     "metadata": {},
     "output_type": "execute_result"
    }
   ],
   "source": [
    "arr_slice[:] = 64\n",
    "arr"
   ]
  },
  {
   "cell_type": "markdown",
   "id": "33a0bcee-8803-4f76-b7ce-915c02daa5f9",
   "metadata": {},
   "source": [
    "If you are new to NumPy, you might be surprised by this, especially if you have used other array programming languages that copy data more eagerly. As NumPy has been designed to be able to work with very large arrays, you could imagine performance and memory problems if NumPy insisted on always copying data.\n"
   ]
  },
  {
   "cell_type": "raw",
   "id": "d4d498fa-4e6f-4353-9eac-ce088157b9f2",
   "metadata": {},
   "source": [
    "If you want a copy of a slice of an ndarray instead of a view, you will need to explicitly copy the array—for example, arr[5:8].copy(). As you will see, pandas works this way, too."
   ]
  },
  {
   "cell_type": "markdown",
   "id": "6b9cc704-605a-4040-948a-208f4b595861",
   "metadata": {},
   "source": [
    "With higher dimensional arrays, you have many more options. In a two-dimensional array, the elements at each index are no longer scalars but rather one-dimensional arrays:"
   ]
  },
  {
   "cell_type": "code",
   "execution_count": 27,
   "id": "3a576576-a497-4e5f-a592-31cade84a76d",
   "metadata": {},
   "outputs": [
    {
     "data": {
      "text/plain": [
       "array([7, 8, 9])"
      ]
     },
     "execution_count": 27,
     "metadata": {},
     "output_type": "execute_result"
    }
   ],
   "source": [
    "arr2d = np.array([\n",
    "    [1, 2, 3],[4, 5, 6],[7, 8, 9]\n",
    "])\n",
    "arr2d[2]"
   ]
  },
  {
   "cell_type": "markdown",
   "id": "f6e07d04-af2c-4266-96fa-3e2abd364b5d",
   "metadata": {},
   "source": [
    "Thus, individual elements can be accessed recursively. But that is a bit too much work, so you can pass a comma-separated list of indices to select individual elements.So these are equivalent:\n"
   ]
  },
  {
   "cell_type": "code",
   "execution_count": 28,
   "id": "fcd90d01-ae8c-49cf-9476-dc09d702e749",
   "metadata": {},
   "outputs": [
    {
     "data": {
      "text/plain": [
       "3"
      ]
     },
     "execution_count": 28,
     "metadata": {},
     "output_type": "execute_result"
    }
   ],
   "source": [
    "arr2d[0][2]"
   ]
  },
  {
   "cell_type": "code",
   "execution_count": 29,
   "id": "3c103f7d-0c34-4374-9b6e-2c71d0a192d0",
   "metadata": {},
   "outputs": [
    {
     "data": {
      "text/plain": [
       "3"
      ]
     },
     "execution_count": 29,
     "metadata": {},
     "output_type": "execute_result"
    }
   ],
   "source": [
    "arr2d[0, 2]"
   ]
  },
  {
   "cell_type": "markdown",
   "id": "239295fb-d4fe-4ea9-be36-05149a0823f2",
   "metadata": {},
   "source": [
    "In multidimensional arrays, if you omit later indices, the returned object will be a lower dimensional ndarray consisting of all the data along the higher dimensions. So in the 2 × 2 × 3 array arr3d:"
   ]
  },
  {
   "cell_type": "code",
   "execution_count": 42,
   "id": "47cfb5fb-0b5e-4b80-80b0-55c7c901925c",
   "metadata": {},
   "outputs": [
    {
     "data": {
      "text/plain": [
       "array([[[ 1,  2,  3],\n",
       "        [ 4,  5,  6]],\n",
       "\n",
       "       [[ 7,  8,  9],\n",
       "        [10, 11, 12]]])"
      ]
     },
     "execution_count": 42,
     "metadata": {},
     "output_type": "execute_result"
    }
   ],
   "source": [
    "arr3d = np.array([\n",
    "    [\n",
    "        [1, 2, 3], [4, 5, 6]\n",
    "    ],\n",
    "    [\n",
    "        [7, 8, 9], [10, 11, 12]\n",
    "    ]\n",
    "])  ### simpy you can alsow write. [[[1, 2, 3], [4, 5, 6]],[[7, 8,9,], [10, 11, 12]]]\n",
    "\n",
    "arr3d "
   ]
  },
  {
   "cell_type": "code",
   "execution_count": 43,
   "id": "76cb5b85-cd7f-4402-9cd6-95cca6f808db",
   "metadata": {},
   "outputs": [
    {
     "data": {
      "text/plain": [
       "array([[1, 2, 3],\n",
       "       [4, 5, 6]])"
      ]
     },
     "execution_count": 43,
     "metadata": {},
     "output_type": "execute_result"
    }
   ],
   "source": [
    "arr3d[0]"
   ]
  },
  {
   "cell_type": "markdown",
   "id": "642dbec4-9613-42fb-81ba-a170c416a969",
   "metadata": {},
   "source": [
    "Both scalar values and arrays can be assigned to arr3d[0]:"
   ]
  },
  {
   "cell_type": "code",
   "execution_count": 45,
   "id": "f946d76f-3fd5-4e2e-b158-eaa4c7e23261",
   "metadata": {},
   "outputs": [
    {
     "data": {
      "text/plain": [
       "array([[[42, 42, 42],\n",
       "        [42, 42, 42]],\n",
       "\n",
       "       [[ 7,  8,  9],\n",
       "        [10, 11, 12]]])"
      ]
     },
     "execution_count": 45,
     "metadata": {},
     "output_type": "execute_result"
    }
   ],
   "source": [
    "old_values = arr3d[0].copy()\n",
    "arr3d[0] = 42\n",
    "arr3d"
   ]
  },
  {
   "cell_type": "code",
   "execution_count": 46,
   "id": "6affc79a-a68a-447d-b00c-b32288d14fba",
   "metadata": {},
   "outputs": [
    {
     "data": {
      "text/plain": [
       "array([[[ 1,  2,  3],\n",
       "        [ 4,  5,  6]],\n",
       "\n",
       "       [[ 7,  8,  9],\n",
       "        [10, 11, 12]]])"
      ]
     },
     "execution_count": 46,
     "metadata": {},
     "output_type": "execute_result"
    }
   ],
   "source": [
    "arr3d[0] = old_values\n",
    "arr3d"
   ]
  },
  {
   "cell_type": "markdown",
   "id": "d7f17eff-3b0e-4cdf-aada-64fc77614a41",
   "metadata": {},
   "source": [
    "Similary, arr3d[1, 0] gives you all the values whose indices start with (1, 0), forming a one-dimensional array:"
   ]
  },
  {
   "cell_type": "code",
   "execution_count": 47,
   "id": "896b8c18-1e22-42d2-b12f-84016e0f9f4a",
   "metadata": {},
   "outputs": [
    {
     "data": {
      "text/plain": [
       "array([7, 8, 9])"
      ]
     },
     "execution_count": 47,
     "metadata": {},
     "output_type": "execute_result"
    }
   ],
   "source": [
    "arr3d[1, 0]"
   ]
  },
  {
   "cell_type": "markdown",
   "id": "fce6ccf0-50d0-441d-8157-a1ebf791e7fa",
   "metadata": {},
   "source": [
    "This expression is same as though we have indexed in two steps:"
   ]
  },
  {
   "cell_type": "code",
   "execution_count": 56,
   "id": "d6d1d38c-34b6-48f8-bbd1-0fbb6b99b2e8",
   "metadata": {},
   "outputs": [
    {
     "data": {
      "text/plain": [
       "array([[ 7,  8,  9],\n",
       "       [10, 11, 12]])"
      ]
     },
     "execution_count": 56,
     "metadata": {},
     "output_type": "execute_result"
    }
   ],
   "source": [
    "x = arr3d[1]\n",
    "x"
   ]
  },
  {
   "cell_type": "code",
   "execution_count": 57,
   "id": "c4121f1c-87ac-4239-8c4e-5e2b4de3f90d",
   "metadata": {},
   "outputs": [
    {
     "data": {
      "text/plain": [
       "array([7, 8, 9])"
      ]
     },
     "execution_count": 57,
     "metadata": {},
     "output_type": "execute_result"
    }
   ],
   "source": [
    "x[0]"
   ]
  },
  {
   "cell_type": "raw",
   "id": "cb68792e-011b-499f-920d-7c78ea969f7a",
   "metadata": {},
   "source": [
    "This multidimensional indexing syntax for NumPy arrays will notwork with regular Python objects, such as lists of lists.\n"
   ]
  },
  {
   "cell_type": "code",
   "execution_count": null,
   "id": "e4d1df94-b0d5-4317-97d6-a683905c7943",
   "metadata": {},
   "outputs": [],
   "source": []
  }
 ],
 "metadata": {
  "kernelspec": {
   "display_name": "Python 3 (ipykernel)",
   "language": "python",
   "name": "python3"
  },
  "language_info": {
   "codemirror_mode": {
    "name": "ipython",
    "version": 3
   },
   "file_extension": ".py",
   "mimetype": "text/x-python",
   "name": "python",
   "nbconvert_exporter": "python",
   "pygments_lexer": "ipython3",
   "version": "3.12.7"
  }
 },
 "nbformat": 4,
 "nbformat_minor": 5
}
