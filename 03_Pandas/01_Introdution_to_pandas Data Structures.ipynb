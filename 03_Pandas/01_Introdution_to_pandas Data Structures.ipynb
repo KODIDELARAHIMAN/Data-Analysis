{
 "cells": [
  {
   "cell_type": "markdown",
   "id": "e5ce908f-b583-492e-a769-34b8379fecfb",
   "metadata": {},
   "source": [
    "# Introduction to Pandas\n",
    "\n",
    "Pandas is an open-source Python library used for data manipulation, analysis, and cleaning. It provides easy-to-use data structures like:"
   ]
  },
  {
   "cell_type": "markdown",
   "id": "e61d0b14-0b52-4d2c-ba58-ee0a918d0b8a",
   "metadata": {},
   "source": [
    "It’s built on top of NumPy and is especially powerful for working with structured data (like tables from Excel, CSV, SQL, etc.).\n",
    "\n",
    "## Why We Use Pandas:\n",
    "We use Pandas because it:\n",
    "- Makes data easy to read, clean, and manipulate\n",
    "- Works well with large datasets\n",
    "- Integrates easily with NumPy, Matplotlib, Scikit-learn, and other Python libraries\n",
    "- Helps with exploratory data analysis (EDA), transforming raw data into usable formats\n",
    "- Offers flexible and fast performance for data operations"
   ]
  },
  {
   "cell_type": "code",
   "execution_count": 1,
   "id": "35ee58e4-7d66-4ece-b6c6-0d22ef75601d",
   "metadata": {},
   "outputs": [],
   "source": [
    "import pandas as pd"
   ]
  },
  {
   "cell_type": "markdown",
   "id": "3bb73634-1c0c-4c64-948e-dac2145d32e8",
   "metadata": {},
   "source": [
    "Here we use pandas as pd. whenever you see pd. in code, it’s referring to pandas. You may also find it\n",
    "easier to import Series and DataFrame into the local namespace since they are so\n",
    "frequently used:"
   ]
  },
  {
   "cell_type": "code",
   "execution_count": 2,
   "id": "f156e17e-6760-4f45-898c-e36a3f2d7a0f",
   "metadata": {},
   "outputs": [],
   "source": [
    "from pandas import Series, DataFrame"
   ]
  },
  {
   "cell_type": "markdown",
   "id": "2f3b0b78-6d42-470a-8852-0fc1dd81d6ac",
   "metadata": {},
   "source": [
    "To get started with pandas, you will need to get comfortable with its two workhorse\n",
    "data structures: Series and DataFrame. While they are not a universal solution for\n",
    "every problem, they provide a solid foundation for a wide variety of data tasks."
   ]
  },
  {
   "cell_type": "markdown",
   "id": "b22de0b0-3097-49ff-b129-ac4dc7dea83f",
   "metadata": {},
   "source": [
    "## Series"
   ]
  },
  {
   "cell_type": "markdown",
   "id": "a05bcd4f-9091-40b7-8f23-18d5e293cfcc",
   "metadata": {},
   "source": [
    "A Series is a one-dimensional array-like object containing a sequence of values (of\n",
    "similar types to NumPy types) of the same type and an associated array of data labels,\n",
    "called its index. The simplest Series is formed from only an array of data:"
   ]
  },
  {
   "cell_type": "code",
   "execution_count": 6,
   "id": "69a5feda-fabd-4ede-ae29-4ac9e0839974",
   "metadata": {},
   "outputs": [
    {
     "data": {
      "text/plain": [
       "0    4\n",
       "1    7\n",
       "2   -5\n",
       "3    3\n",
       "dtype: int64"
      ]
     },
     "execution_count": 6,
     "metadata": {},
     "output_type": "execute_result"
    }
   ],
   "source": [
    "obj = pd.Series([4, 7, -5, 3])\n",
    "obj"
   ]
  },
  {
   "cell_type": "markdown",
   "id": "966b4919-f00f-4ab4-a8a5-a07ddf5541eb",
   "metadata": {},
   "source": [
    "When you create a Series and display it, it shows two parts:\n",
    "\n",
    " - The index (on the left)\n",
    "\n",
    " - The values (on the right)\n",
    "\n",
    "If you **don’t give your own index**, Pandas will automatically create one for you — starting from **0** up to **N-1** (where **N** is the number of items).\n",
    "\n",
    "You can also get:\n",
    "\n",
    " - The actual values (as an array) using the .array or .values attribute\n",
    "\n",
    " - The index using the .index attribute"
   ]
  },
  {
   "cell_type": "code",
   "execution_count": 7,
   "id": "7940115a-f5ff-4d52-b168-216582855161",
   "metadata": {},
   "outputs": [
    {
     "data": {
      "text/plain": [
       "<NumpyExtensionArray>\n",
       "[4, 7, -5, 3]\n",
       "Length: 4, dtype: int64"
      ]
     },
     "execution_count": 7,
     "metadata": {},
     "output_type": "execute_result"
    }
   ],
   "source": [
    "obj.array"
   ]
  },
  {
   "cell_type": "markdown",
   "id": "feaa8574-9081-4752-a666-b2cf782c9417",
   "metadata": {},
   "source": [
    "When you create a Series in Pandas and use obj.array, it returns the internal data array of the Series. Depending on the type of data and the version of Pandas you're using, this could either be a PandasArray or a NumPy ndarray. In older versions or when the Series contains simple data types like integers or floats, obj.array often returns a NumPy array directly. This is completely normal and expected behavior. If you specifically want to get the data as a NumPy array, it’s safer to use obj.values or obj.to_numpy(), as they consistently return a NumPy array across all versions. So, even if obj.array gives a NumPy array instead of a PandasArray, your data is still intact and usable — it's just represented in a more optimized format under the hood."
   ]
  },
  {
   "cell_type": "code",
   "execution_count": 8,
   "id": "9c531ea2-da62-4706-8c1a-f76749e6451f",
   "metadata": {},
   "outputs": [
    {
     "data": {
      "text/plain": [
       "RangeIndex(start=0, stop=4, step=1)"
      ]
     },
     "execution_count": 8,
     "metadata": {},
     "output_type": "execute_result"
    }
   ],
   "source": [
    "obj.index"
   ]
  },
  {
   "cell_type": "code",
   "execution_count": 10,
   "id": "65e42ee9-c20e-4eeb-8282-665da7cbe42f",
   "metadata": {},
   "outputs": [
    {
     "data": {
      "text/plain": [
       "d    4\n",
       "b    7\n",
       "a   -5\n",
       "c    3\n",
       "dtype: int64"
      ]
     },
     "execution_count": 10,
     "metadata": {},
     "output_type": "execute_result"
    }
   ],
   "source": [
    "obj2 = pd.Series([4, 7, -5, 3], index=[\"d\", \"b\", \"a\", \"c\"])\n",
    "obj2"
   ]
  },
  {
   "cell_type": "code",
   "execution_count": 11,
   "id": "5e76b288-a53a-4e4b-879d-f82f7397bb23",
   "metadata": {},
   "outputs": [
    {
     "data": {
      "text/plain": [
       "Index(['d', 'b', 'a', 'c'], dtype='object')"
      ]
     },
     "execution_count": 11,
     "metadata": {},
     "output_type": "execute_result"
    }
   ],
   "source": [
    "obj2.index"
   ]
  },
  {
   "cell_type": "markdown",
   "id": "112e483c-939c-4b2e-81bb-b368d0958270",
   "metadata": {},
   "source": [
    "Compared with NumPy arrays, you can use labels in the index when selecting single\n",
    "values or a set of values:\n"
   ]
  },
  {
   "cell_type": "code",
   "execution_count": 12,
   "id": "94b2fea6-0192-42ea-98dc-75219fad16b1",
   "metadata": {},
   "outputs": [
    {
     "data": {
      "text/plain": [
       "-5"
      ]
     },
     "execution_count": 12,
     "metadata": {},
     "output_type": "execute_result"
    }
   ],
   "source": [
    "obj2[\"a\"]"
   ]
  },
  {
   "cell_type": "code",
   "execution_count": 13,
   "id": "f1613477-6f4b-4f6a-a4b9-f6a4efd76a92",
   "metadata": {},
   "outputs": [],
   "source": [
    "obj2[\"d\"] = 6"
   ]
  },
  {
   "cell_type": "code",
   "execution_count": 14,
   "id": "58064cc2-1a9a-4d63-b2b5-edea1a5449b5",
   "metadata": {},
   "outputs": [
    {
     "data": {
      "text/plain": [
       "c    3\n",
       "a   -5\n",
       "d    6\n",
       "dtype: int64"
      ]
     },
     "execution_count": 14,
     "metadata": {},
     "output_type": "execute_result"
    }
   ],
   "source": [
    "obj2[[\"c\", \"a\", \"d\"]]"
   ]
  },
  {
   "cell_type": "markdown",
   "id": "6fdf8ba7-61c4-4af8-9838-64193be7b355",
   "metadata": {},
   "source": [
    "Here [\"c\", \"a\", \"d\"] is interpreted as a list of indices, even though it contains\n",
    "strings instead of integers.\n",
    "\n",
    "Using NumPy functions or NumPy-like operations, such as filtering with a Boolean\n",
    "array, scalar multiplication, or applying math functions, will preserve the index-value\n",
    "link:\n"
   ]
  },
  {
   "cell_type": "code",
   "execution_count": 15,
   "id": "9ad60dfd-6461-4abe-8de4-5aa5fe715eff",
   "metadata": {},
   "outputs": [
    {
     "data": {
      "text/plain": [
       "d    6\n",
       "b    7\n",
       "c    3\n",
       "dtype: int64"
      ]
     },
     "execution_count": 15,
     "metadata": {},
     "output_type": "execute_result"
    }
   ],
   "source": [
    "obj2[obj2 > 0]"
   ]
  },
  {
   "cell_type": "code",
   "execution_count": 16,
   "id": "442446c0-f9a5-4a99-a3df-79f508e8ed28",
   "metadata": {},
   "outputs": [
    {
     "data": {
      "text/plain": [
       "d    12\n",
       "b    14\n",
       "a   -10\n",
       "c     6\n",
       "dtype: int64"
      ]
     },
     "execution_count": 16,
     "metadata": {},
     "output_type": "execute_result"
    }
   ],
   "source": [
    "obj2 * 2"
   ]
  },
  {
   "cell_type": "code",
   "execution_count": 17,
   "id": "fb059d8d-cfee-41aa-b0bc-ca2861db2c21",
   "metadata": {},
   "outputs": [
    {
     "data": {
      "text/plain": [
       "d     403.428793\n",
       "b    1096.633158\n",
       "a       0.006738\n",
       "c      20.085537\n",
       "dtype: float64"
      ]
     },
     "execution_count": 17,
     "metadata": {},
     "output_type": "execute_result"
    }
   ],
   "source": [
    "import numpy as np\n",
    "np.exp(obj2)"
   ]
  },
  {
   "cell_type": "markdown",
   "id": "db71428c-81a3-404d-988f-2304fafa5293",
   "metadata": {},
   "source": [
    "Another way to think about a Series is as a fixed-length, ordered dictionary, as it is a\n",
    "mapping of index values to data values. It can be used in many contexts where you\n",
    "might use a dictionary:"
   ]
  },
  {
   "cell_type": "code",
   "execution_count": 18,
   "id": "b7c81f62-582f-49b6-90b7-64da6407111e",
   "metadata": {},
   "outputs": [
    {
     "data": {
      "text/plain": [
       "True"
      ]
     },
     "execution_count": 18,
     "metadata": {},
     "output_type": "execute_result"
    }
   ],
   "source": [
    "\"b\" in obj2"
   ]
  },
  {
   "cell_type": "code",
   "execution_count": 19,
   "id": "4c7ec203-f98d-4a9e-b047-9833910259e3",
   "metadata": {},
   "outputs": [
    {
     "data": {
      "text/plain": [
       "False"
      ]
     },
     "execution_count": 19,
     "metadata": {},
     "output_type": "execute_result"
    }
   ],
   "source": [
    "\"e\" in obj2"
   ]
  },
  {
   "cell_type": "markdown",
   "id": "05147bbb-d181-4b96-9fd5-e7cf1c2c5522",
   "metadata": {},
   "source": [
    "Should you have data contained in a Python dictionary, you can create a Series from\n",
    "it by passing the dictionary:\n"
   ]
  },
  {
   "cell_type": "code",
   "execution_count": 20,
   "id": "1e5708a1-0b75-47d0-9684-8febdb499fc6",
   "metadata": {},
   "outputs": [],
   "source": [
    "sdata = {\"Ohio\": 35000, \"Texas\": 71000, \"Oregon\": 16000, \"Utah\": 5000}"
   ]
  },
  {
   "cell_type": "code",
   "execution_count": 22,
   "id": "3f19bf10-4e04-4f1a-a102-fda8cfee3694",
   "metadata": {},
   "outputs": [
    {
     "data": {
      "text/plain": [
       "Ohio      35000\n",
       "Texas     71000\n",
       "Oregon    16000\n",
       "Utah       5000\n",
       "dtype: int64"
      ]
     },
     "execution_count": 22,
     "metadata": {},
     "output_type": "execute_result"
    }
   ],
   "source": [
    "obj3 = pd.Series(sdata)\n",
    "\n",
    "obj3"
   ]
  },
  {
   "cell_type": "markdown",
   "id": "2f9fa4e0-c7e5-4f93-8dcb-0ff76953f5ae",
   "metadata": {},
   "source": [
    "A Series can be converted back to a dictionary with its to_dict method"
   ]
  },
  {
   "cell_type": "code",
   "execution_count": 24,
   "id": "280cff60-0a78-4c60-9055-e9afe6e4d9d1",
   "metadata": {},
   "outputs": [
    {
     "data": {
      "text/plain": [
       "{'Ohio': 35000, 'Texas': 71000, 'Oregon': 16000, 'Utah': 5000}"
      ]
     },
     "execution_count": 24,
     "metadata": {},
     "output_type": "execute_result"
    }
   ],
   "source": [
    "obj3.to_dict()"
   ]
  },
  {
   "cell_type": "markdown",
   "id": "c2bd2fb9-bcd1-4e80-9aaf-5fdda0179dee",
   "metadata": {},
   "source": [
    "When you are only passing a dictionary, the index in the resulting Series will respect\n",
    "the order of the keys according to the dictionary’s keys method, which depends on\n",
    "the key insertion order. You can override this by passing an index with the dictionary\n",
    "keys in the order you want them to appear in the resulting Series:\n"
   ]
  },
  {
   "cell_type": "code",
   "execution_count": 26,
   "id": "b5eea988-cf36-4b95-b0ad-4f80147b72ca",
   "metadata": {},
   "outputs": [],
   "source": [
    "states = [\"California\", \"Ohio\", \"Oregon\", \"Texas\"]\n",
    "\n",
    "obj4 = pd.Series(sdata, index=states)"
   ]
  },
  {
   "cell_type": "code",
   "execution_count": 27,
   "id": "964f6890-55a1-48d1-a323-c8aadb801e6d",
   "metadata": {},
   "outputs": [
    {
     "data": {
      "text/plain": [
       "California        NaN\n",
       "Ohio          35000.0\n",
       "Oregon        16000.0\n",
       "Texas         71000.0\n",
       "dtype: float64"
      ]
     },
     "execution_count": 27,
     "metadata": {},
     "output_type": "execute_result"
    }
   ],
   "source": [
    "obj4"
   ]
  },
  {
   "cell_type": "markdown",
   "id": "c400e8f3-f791-412a-be72-a13720b0401b",
   "metadata": {},
   "source": [
    "Here, three values found in sdata were placed in the appropriate locations, but since\n",
    "no value for \"California\" was found, it appears as NaN (Not a Number), which is\n",
    "considered in pandas to mark missing or NA values. Since \"Utah\" was not included\n",
    "in states, it is excluded from the resulting object.\n",
    "\n",
    "I will use the terms “missing,” “NA,” or “null” interchangeably to refer to missing data.\n",
    "The isna and notna functions in pandas should be used to detect missing data:\n"
   ]
  },
  {
   "cell_type": "code",
   "execution_count": 28,
   "id": "7037f6c9-9f0b-463d-a090-f895879d8cf8",
   "metadata": {},
   "outputs": [
    {
     "data": {
      "text/plain": [
       "California     True\n",
       "Ohio          False\n",
       "Oregon        False\n",
       "Texas         False\n",
       "dtype: bool"
      ]
     },
     "execution_count": 28,
     "metadata": {},
     "output_type": "execute_result"
    }
   ],
   "source": [
    "pd.isna(obj4)"
   ]
  },
  {
   "cell_type": "code",
   "execution_count": null,
   "id": "c595aa9f-57ba-4a86-ac79-23cd625229c9",
   "metadata": {},
   "outputs": [],
   "source": []
  }
 ],
 "metadata": {
  "kernelspec": {
   "display_name": "Python 3 (ipykernel)",
   "language": "python",
   "name": "python3"
  },
  "language_info": {
   "codemirror_mode": {
    "name": "ipython",
    "version": 3
   },
   "file_extension": ".py",
   "mimetype": "text/x-python",
   "name": "python",
   "nbconvert_exporter": "python",
   "pygments_lexer": "ipython3",
   "version": "3.12.7"
  }
 },
 "nbformat": 4,
 "nbformat_minor": 5
}
