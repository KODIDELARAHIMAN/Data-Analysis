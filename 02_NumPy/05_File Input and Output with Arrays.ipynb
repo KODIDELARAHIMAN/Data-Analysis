{
 "cells": [
  {
   "cell_type": "markdown",
   "id": "9d822b84-fadf-4efc-9d1a-9e3398350051",
   "metadata": {},
   "source": [
    "# File Input and Output with Arrays"
   ]
  },
  {
   "cell_type": "markdown",
   "id": "0710691f-2f15-48d3-a174-eea9fdd861d6",
   "metadata": {},
   "source": [
    "NumPy is able to save and load data to and from disk in some text or binary formats.\n",
    "In this section I discuss only NumPy’s built-in binary format, since most users will\n",
    "prefer pandas and other tools for loading text or tabular data (see Chapter 6 for much\n",
    "more).\n",
    "\n",
    "numpy.save and numpy.load are the two workhorse functions for efficiently saving\n",
    "and loading array data on disk. Arrays are saved by default in an uncompressed raw\n",
    "binary format with file extension .npy:"
   ]
  },
  {
   "cell_type": "code",
   "execution_count": 1,
   "id": "39d1fd5f-3aec-40a5-8c4d-25cf799085d1",
   "metadata": {},
   "outputs": [],
   "source": [
    "import numpy as np\n",
    "\n",
    "arr = np.arange(10)"
   ]
  },
  {
   "cell_type": "code",
   "execution_count": 2,
   "id": "0278a880-0740-465c-8007-17239ac46411",
   "metadata": {},
   "outputs": [],
   "source": [
    "np.save(\"some_array\", arr)"
   ]
  },
  {
   "cell_type": "markdown",
   "id": "4824ec83-af48-4a20-8beb-aea2391ce7ce",
   "metadata": {},
   "source": [
    "If the file path does not already end in .npy, the extension will be appended. The array\n",
    "on disk can then be loaded with numpy.load:\n"
   ]
  },
  {
   "cell_type": "code",
   "execution_count": 3,
   "id": "6dcbe4f0-5fb2-4bb5-9f74-c5267dbcd528",
   "metadata": {},
   "outputs": [
    {
     "data": {
      "text/plain": [
       "array([0, 1, 2, 3, 4, 5, 6, 7, 8, 9])"
      ]
     },
     "execution_count": 3,
     "metadata": {},
     "output_type": "execute_result"
    }
   ],
   "source": [
    "np.load(\"some_array.npy\")"
   ]
  },
  {
   "cell_type": "markdown",
   "id": "6863ebad-807c-4860-8e36-51927ac9c43e",
   "metadata": {},
   "source": [
    "You can save multiple arrays in an uncompressed archive using numpy.savez and\n",
    "passing the arrays as keyword arguments:\n"
   ]
  },
  {
   "cell_type": "code",
   "execution_count": 4,
   "id": "363d76d4-d395-4881-857a-33b06c65a8a2",
   "metadata": {},
   "outputs": [],
   "source": [
    "np.savez(\"array_archive.npz\", a=arr, b=arr)"
   ]
  },
  {
   "cell_type": "markdown",
   "id": "c5374df4-3b60-42cf-8fb6-88903ee65ecf",
   "metadata": {},
   "source": [
    "When loading an .npz file, you get back a dictionary-like object that loads the\n",
    "individual arrays lazily:\n"
   ]
  },
  {
   "cell_type": "code",
   "execution_count": 6,
   "id": "3f075f39-6491-43dd-9447-916aa393b45d",
   "metadata": {},
   "outputs": [],
   "source": [
    "arch = np.load(\"array_archive.npz\")"
   ]
  },
  {
   "cell_type": "code",
   "execution_count": 7,
   "id": "a396b5b6-f2de-4424-b68f-631f04a5ff2e",
   "metadata": {},
   "outputs": [
    {
     "data": {
      "text/plain": [
       "array([0, 1, 2, 3, 4, 5, 6, 7, 8, 9])"
      ]
     },
     "execution_count": 7,
     "metadata": {},
     "output_type": "execute_result"
    }
   ],
   "source": [
    "arch[\"b\"]"
   ]
  }
 ],
 "metadata": {
  "kernelspec": {
   "display_name": "Python 3 (ipykernel)",
   "language": "python",
   "name": "python3"
  },
  "language_info": {
   "codemirror_mode": {
    "name": "ipython",
    "version": 3
   },
   "file_extension": ".py",
   "mimetype": "text/x-python",
   "name": "python",
   "nbconvert_exporter": "python",
   "pygments_lexer": "ipython3",
   "version": "3.12.7"
  }
 },
 "nbformat": 4,
 "nbformat_minor": 5
}
