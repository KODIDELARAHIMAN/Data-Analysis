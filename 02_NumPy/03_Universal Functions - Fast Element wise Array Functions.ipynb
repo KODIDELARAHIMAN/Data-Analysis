{
 "cells": [
  {
   "cell_type": "markdown",
   "id": "cc420025-22e1-4290-b1f8-ae58b0e0ff9f",
   "metadata": {},
   "source": [
    "# Universal Functions: Fast Element-Wise Array Functions"
   ]
  },
  {
   "cell_type": "markdown",
   "id": "b993c6af-a579-4514-9670-160e0b1232c1",
   "metadata": {},
   "source": [
    "A universal function, or ufunc, is a function that performs element-wise operations on data in ndarrays. You can think of them as fast vectorized wrappers for simple functions that take one or more scalar values and produce one or more scalar results.\n",
    "\n",
    "Many ufuncs are simple element-wise transformations, like numpy.sqrt or numpy.exp:"
   ]
  },
  {
   "cell_type": "code",
   "execution_count": 1,
   "id": "d041052e-759e-41e1-8442-e014924f22ed",
   "metadata": {},
   "outputs": [],
   "source": [
    "import numpy as np"
   ]
  },
  {
   "cell_type": "code",
   "execution_count": 5,
   "id": "7cda2693-a842-475c-946d-86874b676773",
   "metadata": {},
   "outputs": [],
   "source": [
    "arr = np.arange(10)"
   ]
  },
  {
   "cell_type": "code",
   "execution_count": 6,
   "id": "ac825c85-68cd-4728-9ea7-11a1edbd0978",
   "metadata": {},
   "outputs": [
    {
     "data": {
      "text/plain": [
       "array([0, 1, 2, 3, 4, 5, 6, 7, 8, 9])"
      ]
     },
     "execution_count": 6,
     "metadata": {},
     "output_type": "execute_result"
    }
   ],
   "source": [
    "arr"
   ]
  },
  {
   "cell_type": "code",
   "execution_count": 7,
   "id": "0defba19-8973-4cc6-be99-cea6ea48253f",
   "metadata": {},
   "outputs": [
    {
     "data": {
      "text/plain": [
       "array([0.        , 1.        , 1.41421356, 1.73205081, 2.        ,\n",
       "       2.23606798, 2.44948974, 2.64575131, 2.82842712, 3.        ])"
      ]
     },
     "execution_count": 7,
     "metadata": {},
     "output_type": "execute_result"
    }
   ],
   "source": [
    "np.sqrt(arr)"
   ]
  },
  {
   "cell_type": "code",
   "execution_count": 8,
   "id": "a27fb64a-b746-487b-a0fd-d274eb156cf9",
   "metadata": {},
   "outputs": [
    {
     "data": {
      "text/plain": [
       "array([1.00000000e+00, 2.71828183e+00, 7.38905610e+00, 2.00855369e+01,\n",
       "       5.45981500e+01, 1.48413159e+02, 4.03428793e+02, 1.09663316e+03,\n",
       "       2.98095799e+03, 8.10308393e+03])"
      ]
     },
     "execution_count": 8,
     "metadata": {},
     "output_type": "execute_result"
    }
   ],
   "source": [
    "np.exp(arr)"
   ]
  },
  {
   "cell_type": "markdown",
   "id": "a77ac041-60f9-4287-a99a-5c8786d94be3",
   "metadata": {},
   "source": [
    "These are referred to as unary ufuncs. Others, such as numpy.add or numpy.maximum, take two arrays (thus, binary ufuncs) and return a single array as the result:\n"
   ]
  },
  {
   "cell_type": "code",
   "execution_count": 11,
   "id": "3f0491d3-6ba9-4b14-b7ff-c01bee8b0ae8",
   "metadata": {},
   "outputs": [],
   "source": [
    "rng = np.random.default_rng(seed=12345)\n",
    "\n",
    "data = rng.standard_normal((2,3))\n",
    "\n",
    "x = rng.standard_normal(8)\n",
    "\n",
    "y = rng.standard_normal(8)"
   ]
  },
  {
   "cell_type": "code",
   "execution_count": 12,
   "id": "70ec94dd-4746-4632-9ef6-55b8db8e8290",
   "metadata": {},
   "outputs": [
    {
     "data": {
      "text/plain": [
       "array([-1.3677927 ,  0.6488928 ,  0.36105811, -1.95286306,  2.34740965,\n",
       "        0.96849691, -0.75938718,  0.90219827])"
      ]
     },
     "execution_count": 12,
     "metadata": {},
     "output_type": "execute_result"
    }
   ],
   "source": [
    "x"
   ]
  },
  {
   "cell_type": "code",
   "execution_count": 13,
   "id": "2b6c824b-1d7f-4bfe-93f9-1aa3a841d515",
   "metadata": {},
   "outputs": [
    {
     "data": {
      "text/plain": [
       "array([-0.46695317, -0.06068952,  0.78884434, -1.25666813,  0.57585751,\n",
       "        1.39897899,  1.32229806, -0.29969852])"
      ]
     },
     "execution_count": 13,
     "metadata": {},
     "output_type": "execute_result"
    }
   ],
   "source": [
    "y"
   ]
  },
  {
   "cell_type": "code",
   "execution_count": 14,
   "id": "dafbb9e9-7fbe-4dfd-b985-98ec2fa7d4af",
   "metadata": {},
   "outputs": [
    {
     "data": {
      "text/plain": [
       "array([-0.46695317,  0.6488928 ,  0.78884434, -1.25666813,  2.34740965,\n",
       "        1.39897899,  1.32229806,  0.90219827])"
      ]
     },
     "execution_count": 14,
     "metadata": {},
     "output_type": "execute_result"
    }
   ],
   "source": [
    "np.maximum(x, y)"
   ]
  },
  {
   "cell_type": "markdown",
   "id": "7cf92440-28f4-4fde-815c-68319cf3ddf5",
   "metadata": {},
   "source": [
    "In this example, numpy.maximum computed the element-wise maximum of the elements in x and y\n",
    "\n",
    "While not common, a ufunc can return multiple arrays. numpy.modf is one example:\n",
    "a vectorized version of the built-in Python math.modf, it returns the fractional and integral parts of a floating-point array:\n"
   ]
  },
  {
   "cell_type": "code",
   "execution_count": 15,
   "id": "237184ce-0f44-4a77-aa92-4073e0257f55",
   "metadata": {},
   "outputs": [
    {
     "data": {
      "text/plain": [
       "array([ 4.51459671, -8.10791367, -0.7909463 ,  2.24741966, -6.71800536,\n",
       "       -0.40843795,  8.62369966])"
      ]
     },
     "execution_count": 15,
     "metadata": {},
     "output_type": "execute_result"
    }
   ],
   "source": [
    "arr = rng.standard_normal(7) * 5\n",
    "\n",
    "arr"
   ]
  },
  {
   "cell_type": "code",
   "execution_count": 17,
   "id": "2d1629fb-c91d-4306-bd9d-dd99c87d62a6",
   "metadata": {},
   "outputs": [],
   "source": [
    "remainder, whole_part = np.modf(arr)"
   ]
  },
  {
   "cell_type": "code",
   "execution_count": 18,
   "id": "ee2b88de-32c2-4ff4-b55d-9cf05f8eaede",
   "metadata": {},
   "outputs": [
    {
     "data": {
      "text/plain": [
       "array([ 0.51459671, -0.10791367, -0.7909463 ,  0.24741966, -0.71800536,\n",
       "       -0.40843795,  0.62369966])"
      ]
     },
     "execution_count": 18,
     "metadata": {},
     "output_type": "execute_result"
    }
   ],
   "source": [
    "remainder"
   ]
  },
  {
   "cell_type": "code",
   "execution_count": 19,
   "id": "f9496869-a405-4b1d-978f-67bfa5a5272d",
   "metadata": {},
   "outputs": [
    {
     "data": {
      "text/plain": [
       "array([ 4., -8., -0.,  2., -6., -0.,  8.])"
      ]
     },
     "execution_count": 19,
     "metadata": {},
     "output_type": "execute_result"
    }
   ],
   "source": [
    "whole_part"
   ]
  },
  {
   "cell_type": "markdown",
   "id": "c93d85ab-fccf-4570-8478-c1149abe4c18",
   "metadata": {},
   "source": [
    "Ufuncs accept an optional out argument that allows them to assign their results into an existing array rather than create a new one:\n"
   ]
  },
  {
   "cell_type": "code",
   "execution_count": 20,
   "id": "48230ade-73ed-412b-bd3f-275438ccf886",
   "metadata": {},
   "outputs": [
    {
     "data": {
      "text/plain": [
       "array([ 4.51459671, -8.10791367, -0.7909463 ,  2.24741966, -6.71800536,\n",
       "       -0.40843795,  8.62369966])"
      ]
     },
     "execution_count": 20,
     "metadata": {},
     "output_type": "execute_result"
    }
   ],
   "source": [
    "arr"
   ]
  },
  {
   "cell_type": "code",
   "execution_count": 21,
   "id": "0c7e9e41-005d-462b-af3c-3cd3bb5f6f66",
   "metadata": {},
   "outputs": [],
   "source": [
    "out = np.zeros_like(arr)"
   ]
  },
  {
   "cell_type": "code",
   "execution_count": 22,
   "id": "72a4e190-93a6-4975-84d8-97c4c53e8a38",
   "metadata": {},
   "outputs": [
    {
     "data": {
      "text/plain": [
       "array([ 5.51459671, -7.10791367,  0.2090537 ,  3.24741966, -5.71800536,\n",
       "        0.59156205,  9.62369966])"
      ]
     },
     "execution_count": 22,
     "metadata": {},
     "output_type": "execute_result"
    }
   ],
   "source": [
    "np.add(arr, 1)"
   ]
  },
  {
   "cell_type": "code",
   "execution_count": 23,
   "id": "c378efa2-e9c2-4f8d-885a-271486e96dad",
   "metadata": {},
   "outputs": [
    {
     "data": {
      "text/plain": [
       "array([ 5.51459671, -7.10791367,  0.2090537 ,  3.24741966, -5.71800536,\n",
       "        0.59156205,  9.62369966])"
      ]
     },
     "execution_count": 23,
     "metadata": {},
     "output_type": "execute_result"
    }
   ],
   "source": [
    "np.add(arr, 1, out=out)"
   ]
  },
  {
   "cell_type": "code",
   "execution_count": 24,
   "id": "30790482-ce8f-4422-a6b6-1c9cf26d28b2",
   "metadata": {},
   "outputs": [
    {
     "data": {
      "text/plain": [
       "array([ 4.51459671, -8.10791367, -0.7909463 ,  2.24741966, -6.71800536,\n",
       "       -0.40843795,  8.62369966])"
      ]
     },
     "execution_count": 24,
     "metadata": {},
     "output_type": "execute_result"
    }
   ],
   "source": [
    "arr"
   ]
  },
  {
   "cell_type": "code",
   "execution_count": 25,
   "id": "60983918-d54a-4fe9-82e0-4d14f5a568c2",
   "metadata": {},
   "outputs": [
    {
     "data": {
      "text/plain": [
       "array([ 5.51459671, -7.10791367,  0.2090537 ,  3.24741966, -5.71800536,\n",
       "        0.59156205,  9.62369966])"
      ]
     },
     "execution_count": 25,
     "metadata": {},
     "output_type": "execute_result"
    }
   ],
   "source": [
    "out"
   ]
  },
  {
   "cell_type": "markdown",
   "id": "d4880a60-f052-42d1-a6fc-b7f775e13461",
   "metadata": {},
   "source": [
    "for a listing of some of NumPy’s ufuncs. New ufuncs continue to be added to NumPy, so consulting the online NumPy documentation is the best way to get a comprehensive listing and stay up to date.\n",
    "\n",
    "> some unary universal functions as below"
   ]
  },
  {
   "cell_type": "markdown",
   "id": "fd261dd8-f506-4479-9b61-f6608a3b032f",
   "metadata": {},
   "source": [
    "| Function(s)                             | Description                                                                                          |\n",
    "|----------------------------------------|------------------------------------------------------------------------------------------------------|\n",
    "| `abs`, `fabs`                          | Compute the absolute value element-wise for integer, float, or complex values                        |\n",
    "| `sqrt`                                 | Compute the square root of each element (`arr ** 0.5`)                                               |\n",
    "| `square`                               | Compute the square of each element (`arr ** 2`)                                                      |\n",
    "| `exp`                                  | Compute the exponent `e^x` of each element                                                           |\n",
    "| `log`, `log10`, `log2`, `log1p`        | Natural log (base `e`), log base 10, log base 2, and `log(1 + x)`, respectively                      |\n",
    "| `sign`                                 | Compute the sign of each element: `1` (positive), `0` (zero), `-1` (negative)                        |\n",
    "| `ceil`                                 | Compute the ceiling (smallest integer ≥ element)                                                     |\n",
    "| `floor`                                | Compute the floor (largest integer ≤ element)                                                        |\n",
    "| `rint`                                 | Round elements to the nearest integer, preserving the data type                                      |\n",
    "| `modf`                                 | Return fractional and integral parts as separate arrays                                              |\n",
    "| `isnan`                                | Return Boolean array indicating if each value is NaN                                                 |\n",
    "| `isfinite`, `isinf`                    | Return Boolean arrays: is finite (`not inf or NaN`) or is infinite                                   |\n",
    "| `cos`, `cosh`, `sin`, `sinh`, `tan`, `tanh` | Regular and hyperbolic trigonometric functions                                                   |\n",
    "| `arccos`, `arccosh`, `arcsin`, `arcsinh`, `arctan`, `arctanh` | Inverse trigonometric functions                                            |\n",
    "| `logical_not`                          | Compute truth value of `not x` element-wise (equivalent to `~arr`)                                   |"
   ]
  },
  {
   "cell_type": "markdown",
   "id": "11ddc074-6522-473a-bfe1-21248ac9121d",
   "metadata": {},
   "source": [
    "> some binary universal fuctions as below"
   ]
  },
  {
   "cell_type": "markdown",
   "id": "b7694130-5fc6-427c-bc9a-ba163a3c9331",
   "metadata": {},
   "source": [
    "| Function(s)                                                         | Description                                                                                       |\n",
    "|--------------------------------------------------------------------|---------------------------------------------------------------------------------------------------|\n",
    "| `add`                                                              | Add corresponding elements in arrays                                                              |\n",
    "| `subtract`                                                         | Subtract elements in second array from first array                                                |\n",
    "| `multiply`                                                         | Multiply array elements                                                                           |\n",
    "| `divide`, `floor_divide`                                           | Divide or floor divide (truncating the remainder)                                                 |\n",
    "| `power`                                                            | Raise elements in first array to powers indicated in second array                                 |\n",
    "| `maximum`, `fmax`                                                  | Element-wise maximum; `fmax` ignores NaN                                                          |\n",
    "| `minimum`, `fmin`                                                  | Element-wise minimum; `fmin` ignores NaN                                                          |\n",
    "| `mod`                                                              | Element-wise modulus (remainder of division)                                                      |\n",
    "| `copysign`                                                         | Copy sign of values in second argument to values in first argument                                |\n",
    "| `greater`, `greater_equal`, `less`, `less_equal`, `equal`, `not_equal` | Element-wise comparison; returns Boolean arrays (`>`, `>=`, `<`, `<=`, `==`, `!=`)          |\n",
    "| `logical_and`                                                      | Element-wise truth value of AND (`&`) logical operation                                           |\n",
    "| `logical_or`                                                       | Element-wise truth value of OR (`|`) logical operation                                            |\n",
    "| `logical_xor`                                                      | Element-wise truth value of XOR (`^`) logical operation                                           |\n"
   ]
  }
 ],
 "metadata": {
  "kernelspec": {
   "display_name": "Python 3 (ipykernel)",
   "language": "python",
   "name": "python3"
  },
  "language_info": {
   "codemirror_mode": {
    "name": "ipython",
    "version": 3
   },
   "file_extension": ".py",
   "mimetype": "text/x-python",
   "name": "python",
   "nbconvert_exporter": "python",
   "pygments_lexer": "ipython3",
   "version": "3.12.7"
  }
 },
 "nbformat": 4,
 "nbformat_minor": 5
}
