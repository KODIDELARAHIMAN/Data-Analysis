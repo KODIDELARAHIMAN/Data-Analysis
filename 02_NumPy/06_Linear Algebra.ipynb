{
 "cells": [
  {
   "cell_type": "markdown",
   "id": "dc90d5c7-e596-422e-af64-d1b0dd55dbd6",
   "metadata": {},
   "source": [
    "# Linear Algebra"
   ]
  },
  {
   "cell_type": "markdown",
   "id": "260c34fd-2aa0-431c-8f96-b99530217337",
   "metadata": {},
   "source": [
    "Linear algebra operations, like matrix multiplication, decompositions, determinants,\n",
    "and other square matrix math, are an important part of many array libraries. Multi‐\n",
    "plying two two-dimensional arrays with * is an element-wise product, while matrix\n",
    "multiplications require using a function. Thus, there is a function dot, both an array\n",
    "method and a function in the numpy namespace, for matrix multiplication:"
   ]
  },
  {
   "cell_type": "code",
   "execution_count": 1,
   "id": "e223a2b3-788c-408c-ae6b-f4ac75a39f56",
   "metadata": {},
   "outputs": [
    {
     "data": {
      "text/plain": [
       "array([[1., 2., 3.],\n",
       "       [4., 5., 6.]])"
      ]
     },
     "execution_count": 1,
     "metadata": {},
     "output_type": "execute_result"
    }
   ],
   "source": [
    "import numpy as np\n",
    "\n",
    "x = np.array([[1., 2., 3.], [4., 5., 6.]])\n",
    "\n",
    "y = np.array([[6., 23.], [-1, 7], [8, 9]])\n",
    "\n",
    "x"
   ]
  },
  {
   "cell_type": "code",
   "execution_count": 2,
   "id": "efd908f8-5e9b-4cbe-bd65-fe5275d5a0bf",
   "metadata": {},
   "outputs": [
    {
     "data": {
      "text/plain": [
       "array([[ 6., 23.],\n",
       "       [-1.,  7.],\n",
       "       [ 8.,  9.]])"
      ]
     },
     "execution_count": 2,
     "metadata": {},
     "output_type": "execute_result"
    }
   ],
   "source": [
    "y"
   ]
  },
  {
   "cell_type": "code",
   "execution_count": 4,
   "id": "eccc98ec-bef3-49ab-920e-5bd7aceff6e0",
   "metadata": {},
   "outputs": [
    {
     "data": {
      "text/plain": [
       "array([[ 28.,  64.],\n",
       "       [ 67., 181.]])"
      ]
     },
     "execution_count": 4,
     "metadata": {},
     "output_type": "execute_result"
    }
   ],
   "source": [
    "x.dot(y)  #x.dot(y) is euivalent to np.dot(x,y)"
   ]
  },
  {
   "cell_type": "code",
   "execution_count": 5,
   "id": "4c947244-22d7-48bb-bdf6-f53a6cbc7b95",
   "metadata": {},
   "outputs": [
    {
     "data": {
      "text/plain": [
       "array([[ 28.,  64.],\n",
       "       [ 67., 181.]])"
      ]
     },
     "execution_count": 5,
     "metadata": {},
     "output_type": "execute_result"
    }
   ],
   "source": [
    "np.dot(x, y)"
   ]
  },
  {
   "cell_type": "markdown",
   "id": "1cc574b4-757b-45f5-a8a3-7414a4e71fa1",
   "metadata": {},
   "source": [
    "A matrix product between a two-dimensional array and a suitably sized onedimensional array results in a one-dimensional array:\n"
   ]
  },
  {
   "cell_type": "code",
   "execution_count": 6,
   "id": "fe584c0a-f7fa-4d99-ac22-c43977379568",
   "metadata": {},
   "outputs": [
    {
     "data": {
      "text/plain": [
       "array([ 6., 15.])"
      ]
     },
     "execution_count": 6,
     "metadata": {},
     "output_type": "execute_result"
    }
   ],
   "source": [
    "x @ np.ones(3)"
   ]
  },
  {
   "cell_type": "markdown",
   "id": "1141f18e-0395-40a6-bb3c-ba2a1bef4c8d",
   "metadata": {},
   "source": [
    "numpy.linalg has a standard set of matrix decompositions and things like inverse\n",
    "and determinant:"
   ]
  },
  {
   "cell_type": "code",
   "execution_count": 9,
   "id": "3660633f-f236-4b42-a9a3-5afaf18c33f3",
   "metadata": {},
   "outputs": [
    {
     "data": {
      "text/plain": [
       "array([[ 0.15548538, -0.36723081, -0.52638547, -0.2300642 , -0.04646089],\n",
       "       [-0.36723081,  2.54917814,  3.47827334,  1.48196722,  0.22206454],\n",
       "       [-0.52638547,  3.47827334,  5.46389554,  2.46214396,  0.63467543],\n",
       "       [-0.2300642 ,  1.48196722,  2.46214396,  1.38302896,  0.33430132],\n",
       "       [-0.04646089,  0.22206454,  0.63467543,  0.33430132,  0.33879566]])"
      ]
     },
     "execution_count": 9,
     "metadata": {},
     "output_type": "execute_result"
    }
   ],
   "source": [
    "from numpy.linalg import inv, qr\n",
    "\n",
    "rng = np.random.default_rng(seed=12345)\n",
    "X = rng.standard_normal((5, 5))\n",
    "\n",
    "mat = X.T @ X\n",
    "\n",
    "inv(mat)"
   ]
  },
  {
   "cell_type": "code",
   "execution_count": 10,
   "id": "0c238583-f24c-4d92-b5b2-fb9ba65d778a",
   "metadata": {},
   "outputs": [
    {
     "data": {
      "text/plain": [
       "array([[ 1.00000000e+00,  4.99285027e-17, -2.32472626e-16,\n",
       "        -2.35388056e-16, -1.12575057e-18],\n",
       "       [ 1.55867966e-16,  1.00000000e+00,  9.98311990e-17,\n",
       "        -1.96348091e-16, -3.86511231e-16],\n",
       "       [-6.92418622e-17, -7.91606813e-16,  1.00000000e+00,\n",
       "         5.64803789e-16,  1.61057761e-16],\n",
       "       [-2.37101845e-16,  1.84817406e-15,  3.81257497e-15,\n",
       "         1.00000000e+00,  3.71349003e-16],\n",
       "       [ 9.72642079e-17,  2.31009855e-16, -7.19939179e-17,\n",
       "        -4.80724193e-16,  1.00000000e+00]])"
      ]
     },
     "execution_count": 10,
     "metadata": {},
     "output_type": "execute_result"
    }
   ],
   "source": [
    "mat @ inv(mat)"
   ]
  },
  {
   "cell_type": "markdown",
   "id": "1002686a-c836-4b50-8b10-4d15a298598e",
   "metadata": {},
   "source": [
    "### 📐 NumPy Linear Algebra (`numpy.linalg`) Functions\n",
    "\n",
    "| Function      | Description                                                                                      |\n",
    "|---------------|--------------------------------------------------------------------------------------------------|\n",
    "| `diag`        | Return the diagonal (or off-diagonal) elements of a square matrix as a 1D array, or convert a 1D array into a square matrix with zeros on the off-diagonal |\n",
    "| `dot`         | Perform matrix multiplication                                                                     |\n",
    "| `trace`       | Compute the sum of the diagonal elements of a matrix                                              |\n",
    "| `det`         | Compute the determinant of a matrix                                                               |\n",
    "| `eig`         | Compute the eigenvalues and eigenvectors of a square matrix                                       |\n",
    "| `inv`         | Compute the inverse of a square matrix                                                            |\n",
    "| `pinv`        | Compute the Moore-Penrose pseudoinverse of a matrix                                               |\n",
    "| `qr`          | Compute the QR decomposition of a matrix                                                          |\n",
    "| `svd`         | Compute the singular value decomposition (SVD) of a matrix                                        |\n",
    "| `solve`       | Solve the linear system Ax = b for x, where A is a square matrix                                  |\n",
    "| `lstsq`       | Compute the least-squares solution to Ax = b                                                      |\n"
   ]
  },
  {
   "cell_type": "code",
   "execution_count": null,
   "id": "16db7467-6cac-4b96-be26-8dcdcc85e41a",
   "metadata": {},
   "outputs": [],
   "source": []
  }
 ],
 "metadata": {
  "kernelspec": {
   "display_name": "Python 3 (ipykernel)",
   "language": "python",
   "name": "python3"
  },
  "language_info": {
   "codemirror_mode": {
    "name": "ipython",
    "version": 3
   },
   "file_extension": ".py",
   "mimetype": "text/x-python",
   "name": "python",
   "nbconvert_exporter": "python",
   "pygments_lexer": "ipython3",
   "version": "3.12.7"
  }
 },
 "nbformat": 4,
 "nbformat_minor": 5
}
